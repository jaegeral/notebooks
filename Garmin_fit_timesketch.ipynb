{
  "nbformat": 4,
  "nbformat_minor": 0,
  "metadata": {
    "kernelspec": {
      "display_name": "Python 3",
      "language": "python",
      "name": "python3"
    },
    "language_info": {
      "codemirror_mode": {
        "name": "ipython",
        "version": 3
      },
      "file_extension": ".py",
      "mimetype": "text/x-python",
      "name": "python",
      "nbconvert_exporter": "python",
      "pygments_lexer": "ipython3",
      "version": "3.8.5"
    },
    "colab": {
      "name": "Garmin_fit_timesketch.ipynb",
      "provenance": [],
      "collapsed_sections": []
    }
  },
  "cells": [
    {
      "cell_type": "code",
      "metadata": {
        "id": "FpOsPqKhLWx4"
      },
      "source": [
        "!pip install -q fitparse\n"
      ],
      "execution_count": null,
      "outputs": []
    },
    {
      "cell_type": "code",
      "metadata": {
        "id": "hOjWsRhCY2Pm"
      },
      "source": [
        "# @title Import libraries\n",
        "# @markdown This cell loads libraries that we will use througout the notebook.\n",
        "import io\n",
        "import os\n",
        "import codecs\n",
        "\n",
        "import altair as alt\n",
        "import numpy as np\n",
        "import pandas as pd\n",
        "\n",
        "from timesketch_api_client import config\n",
        "from timesketch_import_client import helper\n",
        "from timesketch_import_client import importer\n",
        "\n",
        "import fitparse\n"
      ],
      "execution_count": null,
      "outputs": []
    },
    {
      "cell_type": "code",
      "metadata": {
        "id": "D2-2y7ukLWx4"
      },
      "source": [
        "# Load the FIT file\n",
        "file_name = '2019-02-17-062644-ELEMNT-297E-195-0.fit'\n",
        "path = './scripts/garmin/python-fitparse/tests/files/'\n",
        "\n",
        "file = path+file_name\n",
        "fitfile = fitparse.FitFile(file) # for testing purposes we will loop the full folder later"
      ],
      "execution_count": null,
      "outputs": []
    },
    {
      "cell_type": "code",
      "metadata": {
        "id": "3S6Ecmx2kYxA"
      },
      "source": [
        "pd.set_option('max_colwidth', 500)"
      ],
      "execution_count": null,
      "outputs": []
    },
    {
      "cell_type": "code",
      "metadata": {
        "id": "v7Cu1LjxYxr2"
      },
      "source": [
        "ts_client = config.get_client()\n",
        "[(x.id, x.name) for x in ts_client.list_sketches()]"
      ],
      "execution_count": null,
      "outputs": []
    },
    {
      "cell_type": "code",
      "metadata": {
        "id": "x3p2LHaMY9Tu"
      },
      "source": [
        "# @markdown This needs to be changed to reflect the correct sketch.\n",
        "\n",
        "SKETCH_ID = 2 # @param {type: \"integer\"}"
      ],
      "execution_count": null,
      "outputs": []
    },
    {
      "cell_type": "code",
      "metadata": {
        "id": "dl_a_A4hLWx4"
      },
      "source": [
        "def process_file(fitfile,filename):\n",
        "  # Iterate over all messages of type \"record\"\n",
        "  # (other types include \"device_info\", \"file_creator\", \"event\", etc)\n",
        "  all_entries = []\n",
        "  headers = []\n",
        "  device_sting = \"\"\n",
        "  for device in fitfile.get_messages(\"device_info\"):\n",
        "    #print(device.get_values())\n",
        "    #device_sting = \" \".join((device_sting, str(device.get_values())))\n",
        "    all_entries.append(device.get_values())\n",
        "\n",
        "  for record in fitfile.get_messages(\"record\"):\n",
        "      recordt_row = []\n",
        "      entry = record.get_values()\n",
        "      #if 'device_info' not in entry.keys():\n",
        "      #  entry['device_info'] = device_sting\n",
        "      recordt_row.append(record.get_values())\n",
        "      #entry.append(\"device_info\")\n",
        "      #print(entry)\n",
        "      # Records can contain multiple pieces of data (ex: timestamp, latitude, longitude, etc)\n",
        "      all_entries.append(entry)\n",
        "\n",
        "  df = pd.DataFrame(all_entries)\n",
        "  if 'timestamp' in df:\n",
        "    df['datetime'] = pd.to_datetime(df['timestamp'])\n",
        "  else:\n",
        "    return\n",
        "  return df\n",
        "\n",
        "  "
      ],
      "execution_count": null,
      "outputs": []
    },
    {
      "cell_type": "code",
      "metadata": {
        "id": "mU78vTWsbZa1"
      },
      "source": [
        "def ts_upload_file(df,filename):\n",
        "  sketch = ts_client.get_sketch(SKETCH_ID)\n",
        "  import_helper = helper.ImportHelper() \n",
        "\n",
        "  with importer.ImportStreamer() as streamer:\n",
        "    streamer.set_sketch(sketch)\n",
        "    streamer.set_config_helper(import_helper) \n",
        "    streamer.set_timeline_name(filename)\n",
        "    streamer.add_data_frame(df)"
      ],
      "execution_count": null,
      "outputs": []
    },
    {
      "cell_type": "code",
      "metadata": {
        "id": "rcvrKirFwBnr"
      },
      "source": [
        "import os\n",
        "import time\n",
        "\n",
        "for filename in os.listdir(path):\n",
        "    if filename.endswith(\".fit\"):\n",
        "        file = path+filename\n",
        "\n",
        "        fitfile = fitparse.FitFile(file) \n",
        "        print(file)\n",
        "        return_df = process_file(fitfile,filename)\n",
        "        print(\"done, now uploading\")\n",
        "        ts_upload_file(return_df,filename)\n",
        "        print(\"donw uploading\")\n",
        "        time.sleep(1)\n",
        "        continue\n",
        "    else:\n",
        "      continue"
      ],
      "execution_count": null,
      "outputs": []
    },
    {
      "cell_type": "markdown",
      "metadata": {
        "id": "J31y_vSmgUAq"
      },
      "source": [
        "# Analysis"
      ]
    },
    {
      "cell_type": "code",
      "metadata": {
        "id": "C6jWhrAEgyCH"
      },
      "source": [
        "sketch = ts_client.get_sketch(2)\n",
        "cur_df = sketch.explore(\n",
        "    'speed:*',\n",
        "    as_pandas=True,\n",
        "    return_fields='datetime,speed'\n",
        ")"
      ],
      "execution_count": null,
      "outputs": []
    },
    {
      "cell_type": "code",
      "metadata": {
        "id": "L7534efslfaD"
      },
      "source": [
        "cur_df.head(100)"
      ],
      "execution_count": null,
      "outputs": []
    },
    {
      "cell_type": "code",
      "metadata": {
        "id": "c6yc_-Nrlq1q"
      },
      "source": [
        "df.shape"
      ],
      "execution_count": null,
      "outputs": []
    },
    {
      "cell_type": "code",
      "metadata": {
        "id": "DCACH63qmZQY"
      },
      "source": [
        "!pip install matplotlib\n",
        "!pip install seaborn"
      ],
      "execution_count": null,
      "outputs": []
    },
    {
      "cell_type": "code",
      "metadata": {
        "id": "hgbRocMimXSG"
      },
      "source": [
        "import matplotlib as mpl\n",
        "import matplotlib.pyplot as plt\n",
        "import pandas as pd"
      ],
      "execution_count": null,
      "outputs": []
    },
    {
      "cell_type": "code",
      "metadata": {
        "id": "E7nrn9r-mtDA"
      },
      "source": [
        "import seaborn as sns\n",
        "\n",
        "sns.set(rc={'figure.figsize':(11, 4)})\n"
      ],
      "execution_count": null,
      "outputs": []
    },
    {
      "cell_type": "code",
      "metadata": {
        "id": "mKEZlcU5m4Ca"
      },
      "source": [
        "cur_df['speed'].plot(linewidth=0.5);\n"
      ],
      "execution_count": null,
      "outputs": []
    },
    {
      "cell_type": "code",
      "metadata": {
        "id": "Hikr7cAvvsAO"
      },
      "source": [
        "sketch = ts_client.get_sketch(2)\n",
        "cur_df = sketch.explore(\n",
        "    'position_lat:*',\n",
        "    as_pandas=True,\n",
        "    return_fields='position_lat,position_long'\n",
        ")"
      ],
      "execution_count": null,
      "outputs": []
    },
    {
      "cell_type": "code",
      "metadata": {
        "id": "HgU3W4auv1oN"
      },
      "source": [
        "cur_df"
      ],
      "execution_count": null,
      "outputs": []
    },
    {
      "cell_type": "code",
      "metadata": {
        "id": "d9b5GuDVwhHG"
      },
      "source": [
        "!pip install geos\n",
        "!pip install -q geopy\n",
        "!pip install -q folium\n"
      ],
      "execution_count": null,
      "outputs": []
    },
    {
      "cell_type": "code",
      "metadata": {
        "id": "s4Xq4W-6wy4C"
      },
      "source": [
        "import pandas as pd\n",
        "from geopy.geocoders import Nominatim\n",
        "import folium"
      ],
      "execution_count": null,
      "outputs": []
    },
    {
      "cell_type": "code",
      "metadata": {
        "id": "NwYnw42X2oIA"
      },
      "source": [
        "pd.set_option('display.max_rows', 500)\n",
        "pd.set_option('display.max_columns', 500)\n",
        "pd.set_option('display.width', 1000)\n",
        "pd.set_option('display.expand_frame_repr', False)\n",
        "pd.options.display.float_format = '{:,.20f}'.format\n",
        "\n"
      ],
      "execution_count": null,
      "outputs": []
    },
    {
      "cell_type": "code",
      "metadata": {
        "id": "ll-bNBRZ2CMm"
      },
      "source": [
        "cur_df['lat'] = cur_df['position_lat'] /100000000\n",
        "cur_df['lon'] = cur_df['position_long']/100000000\n",
        "cur_df.info()\n",
        "cur_df"
      ],
      "execution_count": null,
      "outputs": []
    },
    {
      "cell_type": "code",
      "metadata": {
        "id": "pIA0QQU73V25"
      },
      "source": [
        "df_new = cur_df.head(100)\n",
        "df_new2 = cur_df.drop_duplicates(subset=['lon'])"
      ],
      "execution_count": null,
      "outputs": []
    },
    {
      "cell_type": "code",
      "metadata": {
        "id": "HnnAmHAjO3hC"
      },
      "source": [
        "!pip install -q  folium\n",
        "import pandas as pd\n",
        "import folium"
      ],
      "execution_count": null,
      "outputs": []
    },
    {
      "cell_type": "code",
      "metadata": {
        "id": "0BQuj8RbP20T"
      },
      "source": [
        "# demo that it would work\n",
        "df_new = pd.DataFrame(columns=[\"lat\", \"lon\"], data=[[56.37772540,102.740],[58.37772540,103.740]]),\n",
        "df_new = pd.DataFrame({\n",
        "    'lat': [56.37772540, 58.37772540,-52.850,68.462,49.6633487,56.37],\n",
        "    'lon': [102.740, 103.740,68.462,-5.2850,8.2508508,10.2740]\n",
        "})\n",
        "\n",
        "\n",
        "new = df_new\n"
      ],
      "execution_count": null,
      "outputs": []
    },
    {
      "cell_type": "code",
      "metadata": {
        "id": "zzs7Tc-FQY-_"
      },
      "source": [
        "df_new.head(19)"
      ],
      "execution_count": null,
      "outputs": []
    },
    {
      "cell_type": "code",
      "metadata": {
        "id": "tLxu_kOpxgmp"
      },
      "source": [
        "\n",
        "map1 = folium.Map(location=(49.850,\t8.2462), zoom_start=3)\n",
        "for index,row in df_new.iterrows(): \n",
        "  # Add the geocoded locations to the map\n",
        "  folium.Marker(location=(row['lat'],row['lon']),popup='bla').add_to(map1)\n",
        "\n",
        "display(map1)"
      ],
      "execution_count": null,
      "outputs": []
    }
  ]
}