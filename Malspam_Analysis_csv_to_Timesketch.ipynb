{
  "nbformat": 4,
  "nbformat_minor": 0,
  "metadata": {
    "colab": {
      "name": "Malspam Analysis csv to Timesketch",
      "provenance": [],
      "collapsed_sections": [],
      "toc_visible": true,
      "authorship_tag": "ABX9TyOHPGovnsZ0S2Xl8bdP+DRM",
      "include_colab_link": true
    },
    "kernelspec": {
      "name": "python3",
      "display_name": "Python 3"
    }
  },
  "cells": [
    {
      "cell_type": "markdown",
      "metadata": {
        "id": "view-in-github",
        "colab_type": "text"
      },
      "source": [
        "<a href=\"https://colab.research.google.com/github/jaegeral/notebooks/blob/main/Malspam_Analysis_csv_to_Timesketch.ipynb\" target=\"_parent\"><img src=\"https://colab.research.google.com/assets/colab-badge.svg\" alt=\"Open In Colab\"/></a>"
      ]
    },
    {
      "cell_type": "code",
      "metadata": {
        "id": "JLzotuCpMS-C"
      },
      "source": [
        "!pip install -q google-colab\n",
        "!pip install -q pandas"
      ],
      "execution_count": null,
      "outputs": []
    },
    {
      "cell_type": "markdown",
      "metadata": {
        "id": "WsRKBccFMfUe"
      },
      "source": [
        "# File import"
      ]
    },
    {
      "cell_type": "code",
      "metadata": {
        "id": "M-STlHDLhMGe"
      },
      "source": [
        "from io import StringIO\n",
        "import pandas as pd\n",
        "\n",
        "# I did parse the csv before with Google Sheets to get rid of some weirdness\n",
        "filename = '/Downloads/bad_emails_INBOX.Archives.2020-09_toparse.csv'\n",
        "df = pd.read_csv(filename, encoding=\"utf-8\",parse_dates=True)\n",
        "df.head()"
      ],
      "execution_count": null,
      "outputs": []
    },
    {
      "cell_type": "markdown",
      "metadata": {
        "id": "VaMHm7c0NPO6"
      },
      "source": [
        "## To pandas "
      ]
    },
    {
      "cell_type": "code",
      "metadata": {
        "id": "hnyy5tzqNTEG"
      },
      "source": [
        "df.head()"
      ],
      "execution_count": null,
      "outputs": []
    },
    {
      "cell_type": "markdown",
      "metadata": {
        "id": "lsAODdSiNfvD"
      },
      "source": [
        "## Get \"Date\" to date"
      ]
    },
    {
      "cell_type": "code",
      "metadata": {
        "id": "wgcgLNP9OFGf"
      },
      "source": [
        "df.info() \n"
      ],
      "execution_count": null,
      "outputs": []
    },
    {
      "cell_type": "code",
      "metadata": {
        "id": "pDqyvwSbPBnB"
      },
      "source": [
        "pd.set_option('display.max_rows', df.shape[0]+1)\n"
      ],
      "execution_count": null,
      "outputs": []
    },
    {
      "cell_type": "code",
      "metadata": {
        "id": "3KmKv9OmQOrk"
      },
      "source": [
        "# convert the 'Date' column to datetime format \n",
        "\n",
        "df['Date']= pd.to_datetime(df['Date'], utc=True) \n"
      ],
      "execution_count": null,
      "outputs": []
    },
    {
      "cell_type": "code",
      "metadata": {
        "id": "FwXTbwWSQb5l"
      },
      "source": [
        "# change format\n",
        "df['Date'] = pd.to_datetime(df[\"Date\"].dt.strftime('%Y-%m-%dT%H:%M:%S'))\n"
      ],
      "execution_count": null,
      "outputs": []
    },
    {
      "cell_type": "code",
      "metadata": {
        "id": "ZNbVzbaNQeDq"
      },
      "source": [
        "\n",
        "df = df.rename(columns={\"Date\": \"datetime\"}) # rename to better timesketch import\n"
      ],
      "execution_count": null,
      "outputs": []
    },
    {
      "cell_type": "code",
      "metadata": {
        "id": "L9NjFbB3QpZ5"
      },
      "source": [
        "df.head()"
      ],
      "execution_count": null,
      "outputs": []
    },
    {
      "cell_type": "markdown",
      "metadata": {
        "id": "qDTbd78DVVf2"
      },
      "source": [
        "# Timesketch"
      ]
    },
    {
      "cell_type": "markdown",
      "metadata": {
        "id": "nx2V70lcRm0U"
      },
      "source": [
        "## Setup"
      ]
    },
    {
      "cell_type": "code",
      "metadata": {
        "id": "a1T7OWU2RF9I"
      },
      "source": [
        "!pip install -q timesketch_api_client \n",
        "!pip install -q timesketch_import_client\n",
        "\n",
        "from timesketch_api_client import client\n",
        "from timesketch_import_client import importer"
      ],
      "execution_count": null,
      "outputs": []
    },
    {
      "cell_type": "code",
      "metadata": {
        "id": "DkPSmqAKRIPe"
      },
      "source": [
        "SERVER_LOCATION = \"http://127.0.0.1:5000\"\n",
        "USERNAME = \"dev\"\n",
        "PASSWORD = \"dev\"\n",
        "\n",
        "ts = client.TimesketchApi(SERVER_LOCATION, USERNAME, PASSWORD)\n",
        "my_sketch = ts.get_sketch(1)"
      ],
      "execution_count": null,
      "outputs": []
    },
    {
      "cell_type": "markdown",
      "metadata": {
        "id": "_kZId-VmRTRZ"
      },
      "source": [
        "## Upload"
      ]
    },
    {
      "cell_type": "code",
      "metadata": {
        "id": "oruAwwFSRSY7"
      },
      "source": [
        "with importer.ImportStreamer() as streamer:\n",
        "    streamer.set_sketch(my_sketch)\n",
        "    streamer.set_timestamp_description('malicious attachments')\n",
        "    streamer.set_timeline_name('malicious attachments')\n",
        "    streamer.set_message_format_string(\n",
        "        'Malicious attachment entry {Subject:s} {Attachment:s} {Malware:s}')\n",
        "\n",
        "    streamer.add_data_frame(df)"
      ],
      "execution_count": null,
      "outputs": []
    }
  ]
}