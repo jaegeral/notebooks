{
  "nbformat": 4,
  "nbformat_minor": 0,
  "metadata": {
    "colab": {
      "name": "Malspam Analysis csv to Timesketch",
      "provenance": [],
      "collapsed_sections": [],
      "toc_visible": true,
      "authorship_tag": "ABX9TyPtFfKjaxoiFnvlPLo1pevg"
    },
    "kernelspec": {
      "name": "python3",
      "display_name": "Python 3"
    }
  },
  "cells": [
    {
      "cell_type": "code",
      "metadata": {
        "id": "JLzotuCpMS-C"
      },
      "source": [
        "!pip install google-colab\n",
        "!pip install pandas"
      ],
      "execution_count": null,
      "outputs": []
    },
    {
      "cell_type": "markdown",
      "metadata": {
        "id": "WclKml2NMtnt"
      },
      "source": [
        "# Authenticate"
      ]
    },
    {
      "cell_type": "code",
      "metadata": {
        "id": "E0QZRNwDMskE"
      },
      "source": [
        "from google.colab import auth\n",
        "auth.authenticate_user()\n",
        "import gspread\n",
        "from oauth2client.client import GoogleCredentials\n",
        "gc = gspread.authorize(GoogleCredentials.get_application_default())"
      ],
      "execution_count": null,
      "outputs": []
    },
    {
      "cell_type": "markdown",
      "metadata": {
        "id": "WsRKBccFMfUe"
      },
      "source": [
        "# File import\n",
        "\n",
        "## Drive"
      ]
    },
    {
      "cell_type": "code",
      "metadata": {
        "id": "MzmDmAlsMhAC"
      },
      "source": [
        "!pip install PyDrive"
      ],
      "execution_count": null,
      "outputs": []
    },
    {
      "cell_type": "code",
      "metadata": {
        "id": "8k6Si-rLM40_"
      },
      "source": [
        "import pandas as pd\n"
      ],
      "execution_count": null,
      "outputs": []
    },
    {
      "cell_type": "code",
      "metadata": {
        "id": "vaxHcNJ2TWwU"
      },
      "source": [
        ""
      ],
      "execution_count": null,
      "outputs": []
    },
    {
      "cell_type": "code",
      "metadata": {
        "id": "7PUCVvEDM7VB",
        "cellView": "both"
      },
      "source": [
        "#@Sheet url\n",
        "drive_url = \"\" #@param {type:\"string\"}\n",
        "wb = gc.open_by_url(drive_url)"
      ],
      "execution_count": null,
      "outputs": []
    },
    {
      "cell_type": "code",
      "metadata": {
        "id": "wEMMvmoPNKGj"
      },
      "source": [
        "sheet_name = \"bad_emails_INBOX.Archives.2020-09\" #@param {type:\"string\"}\n",
        "sheet = wb.worksheet(sheet_name)\n"
      ],
      "execution_count": null,
      "outputs": []
    },
    {
      "cell_type": "markdown",
      "metadata": {
        "id": "VaMHm7c0NPO6"
      },
      "source": [
        "## To pandas "
      ]
    },
    {
      "cell_type": "code",
      "metadata": {
        "id": "LVs6takMNQp3"
      },
      "source": [
        "data = sheet.get_all_values()\n",
        "df = pd.DataFrame(data)"
      ],
      "execution_count": null,
      "outputs": []
    },
    {
      "cell_type": "code",
      "metadata": {
        "id": "hnyy5tzqNTEG"
      },
      "source": [
        "df.head()"
      ],
      "execution_count": null,
      "outputs": []
    },
    {
      "cell_type": "code",
      "metadata": {
        "id": "LHif4YHJNYtn"
      },
      "source": [
        "new_header = df.iloc[0] #grab the first row for the header\n",
        "df = df[1:] #take the data less the header row\n",
        "df.columns = new_header #set the header row as the df header"
      ],
      "execution_count": null,
      "outputs": []
    },
    {
      "cell_type": "markdown",
      "metadata": {
        "id": "lsAODdSiNfvD"
      },
      "source": [
        "## Get \"Date\" to date"
      ]
    },
    {
      "cell_type": "code",
      "metadata": {
        "id": "wgcgLNP9OFGf"
      },
      "source": [
        "df.info() \n"
      ],
      "execution_count": null,
      "outputs": []
    },
    {
      "cell_type": "code",
      "metadata": {
        "id": "o07CSpJSN4R5"
      },
      "source": [
        "df[\"Date\"].replace({\"None\": \"1970-01-01T00:00:00\"})\n"
      ],
      "execution_count": null,
      "outputs": []
    },
    {
      "cell_type": "code",
      "metadata": {
        "id": "mVdigoAOOUsB"
      },
      "source": [
        "df.loc[df['Date'].isnull(), 'Date'] = '1970-01-01T00:00:00'"
      ],
      "execution_count": null,
      "outputs": []
    },
    {
      "cell_type": "code",
      "metadata": {
        "id": "pDqyvwSbPBnB"
      },
      "source": [
        "pd.set_option('display.max_rows', df.shape[0]+1)\n"
      ],
      "execution_count": null,
      "outputs": []
    },
    {
      "cell_type": "code",
      "metadata": {
        "id": "uFmc2G6bOl0D"
      },
      "source": [
        "df['Date']"
      ],
      "execution_count": null,
      "outputs": []
    },
    {
      "cell_type": "code",
      "metadata": {
        "id": "3KmKv9OmQOrk"
      },
      "source": [
        "# convert the 'Date' column to datetime format \n",
        "\n",
        "df['Date']= pd.to_datetime(df['Date'], utc=True) \n"
      ],
      "execution_count": null,
      "outputs": []
    },
    {
      "cell_type": "code",
      "metadata": {
        "id": "M3bpQHATQX1t"
      },
      "source": [
        "df.info()"
      ],
      "execution_count": null,
      "outputs": []
    },
    {
      "cell_type": "code",
      "metadata": {
        "id": "FwXTbwWSQb5l"
      },
      "source": [
        "# change format\n",
        "df['Date'] = pd.to_datetime(df[\"Date\"].dt.strftime('%Y-%m-%dT%H:%M:%S'))\n"
      ],
      "execution_count": null,
      "outputs": []
    },
    {
      "cell_type": "code",
      "metadata": {
        "id": "ZNbVzbaNQeDq"
      },
      "source": [
        "\n",
        "df = df.rename(columns={\"Date\": \"datetime\"}) # rename to better timesketch import\n"
      ],
      "execution_count": null,
      "outputs": []
    },
    {
      "cell_type": "code",
      "metadata": {
        "id": "L9NjFbB3QpZ5"
      },
      "source": [
        "df.head()"
      ],
      "execution_count": null,
      "outputs": []
    },
    {
      "cell_type": "code",
      "metadata": {
        "id": "mqwoOXjMREjO"
      },
      "source": [
        "# Timesketch"
      ],
      "execution_count": null,
      "outputs": []
    },
    {
      "cell_type": "markdown",
      "metadata": {
        "id": "nx2V70lcRm0U"
      },
      "source": [
        "## Setup"
      ]
    },
    {
      "cell_type": "code",
      "metadata": {
        "id": "a1T7OWU2RF9I"
      },
      "source": [
        "!pip install timesketch_api_client \n",
        "!pip install timesketch_import_client\n",
        "\n",
        "from timesketch_api_client import client\n",
        "from timesketch_import_client import importer"
      ],
      "execution_count": null,
      "outputs": []
    },
    {
      "cell_type": "code",
      "metadata": {
        "id": "DkPSmqAKRIPe"
      },
      "source": [
        "SERVER_LOCATION = \"http://localhost:5000\"\n",
        "USERNAME = \"dev\"\n",
        "PASSWORD = \"dev\"\n",
        "\n",
        "ts = client.TimesketchApi(SERVER_LOCATION, USERNAME, PASSWORD)\n",
        "my_sketch = ts.get_sketch(1)"
      ],
      "execution_count": null,
      "outputs": []
    },
    {
      "cell_type": "markdown",
      "metadata": {
        "id": "_kZId-VmRTRZ"
      },
      "source": [
        "## Upload"
      ]
    },
    {
      "cell_type": "code",
      "metadata": {
        "id": "oruAwwFSRSY7"
      },
      "source": [
        "with importer.ImportStreamer() as streamer:\n",
        "    streamer.set_sketch(my_sketch)\n",
        "    streamer.set_timestamp_description('malicious attachments')\n",
        "    streamer.set_timeline_name('malicious attachments')\n",
        "    streamer.set_message_format_string(\n",
        "        'Malicious attachment entry {Subject:s} {Attachment:s} {Malware:s}')\n",
        "\n",
        "    streamer.add_data_frame(df)"
      ],
      "execution_count": null,
      "outputs": []
    }
  ]
}